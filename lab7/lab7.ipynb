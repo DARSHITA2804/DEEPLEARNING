{
  "cells": [
    {
      "cell_type": "markdown",
      "metadata": {
        "id": "view-in-github",
        "colab_type": "text"
      },
      "source": [
        "<a href=\"https://colab.research.google.com/github/DARSHITA2804/DEEPLEARNING/blob/main/lab7.ipynb\" target=\"_parent\"><img src=\"https://colab.research.google.com/assets/colab-badge.svg\" alt=\"Open In Colab\"/></a>"
      ]
    },
    {
      "cell_type": "code",
      "source": [
        "import tensorflow_datasets as tfds\n",
        "\n",
        "dataset, info = tfds.load(\n",
        "    'cats_vs_dogs',\n",
        "    data_dir='/content/sample_data/cats_vs_dogs',\n",
        "    as_supervised=True,\n",
        "    with_info=True\n",
        ")"
      ],
      "metadata": {
        "id": "YuTOoZ9K2WVl"
      },
      "execution_count": 9,
      "outputs": []
    },
    {
      "cell_type": "code",
      "source": [
        "import os\n",
        "\n",
        "# List files and directories in the base data directory to understand the structure\n",
        "data_dir_base = '/content/sample_data/cats_vs_dogs'\n",
        "print(f\"Contents of {data_dir_base}:\")\n",
        "print(os.listdir(data_dir_base))\n",
        "\n",
        "# Assuming based on common tfds structures, there might be a version subdirectory\n",
        "# Let's try listing the contents of potential subdirectories as well if found\n",
        "for item in os.listdir(data_dir_base):\n",
        "    item_path = os.path.join(data_dir_base, item)\n",
        "    if os.path.isdir(item_path):\n",
        "        print(f\"\\nContents of {item_path}:\")\n",
        "        try:\n",
        "            print(os.listdir(item_path))\n",
        "        except Exception as e:\n",
        "            print(f\"Could not list contents: {e}\")"
      ],
      "metadata": {
        "colab": {
          "base_uri": "https://localhost:8080/"
        },
        "id": "o2rQFbUs2veI",
        "outputId": "01f79e8d-959f-4480-d7c1-350db8b62581"
      },
      "execution_count": 10,
      "outputs": [
        {
          "output_type": "stream",
          "name": "stdout",
          "text": [
            "Contents of /content/sample_data/cats_vs_dogs:\n",
            "['cats_vs_dogs', 'downloads']\n",
            "\n",
            "Contents of /content/sample_data/cats_vs_dogs/cats_vs_dogs:\n",
            "['4.0.1']\n",
            "\n",
            "Contents of /content/sample_data/cats_vs_dogs/downloads:\n",
            "['extracted', 'cats_vs_dogs']\n"
          ]
        }
      ]
    },
    {
      "cell_type": "code",
      "metadata": {
        "id": "5fa252ae",
        "colab": {
          "base_uri": "https://localhost:8080/"
        },
        "outputId": "284e6b6d-0f21-48fa-8c62-eaed632a4f38"
      },
      "source": [
        "import torch\n",
        "from torch.utils.data import Dataset, DataLoader\n",
        "from PIL import Image\n",
        "import os\n",
        "import torchvision.transforms as transforms\n",
        "\n",
        "class CatsVsDogsDataset(Dataset):\n",
        "    def __init__(self, data_dir, transform=None):\n",
        "        self.data_dir = data_dir\n",
        "        self.transform = transform\n",
        "        # List files, filtering for jpg and ensuring they are files (not directories)\n",
        "        self.image_files = [f for f in os.listdir(data_dir) if f.endswith('.jpg') and os.path.isfile(os.path.join(data_dir, f))]\n",
        "\n",
        "\n",
        "    def __len__(self):\n",
        "        return len(self.image_files)\n",
        "\n",
        "    def __getitem__(self, idx):\n",
        "        img_name = os.path.join(self.data_dir, self.image_files[idx])\n",
        "        image = Image.open(img_name).convert('RGB')\n",
        "        label = 1 if 'cat' in self.image_files[idx] else 0\n",
        "\n",
        "        if self.transform:\n",
        "            image = self.transform(image)\n",
        "\n",
        "        return image, label\n",
        "\n",
        "# Define transforms\n",
        "transform = transforms.Compose([\n",
        "    transforms.Resize((128, 128)),\n",
        "    transforms.ToTensor(),\n",
        "    transforms.Normalize((0.5, 0.5, 0.5), (0.5, 0.5, 0.5))\n",
        "])\n",
        "\n",
        "# Instantiate the datasets with the corrected data_dir path\n",
        "corrected_data_dir = '/content/sample_data/cats_vs_dogs/cats_vs_dogs/4.0.1'\n",
        "\n",
        "# Although tfds loaded with splits, the extracted data might be in a single directory.\n",
        "# Let's confirm the number of images found in this directory.\n",
        "# If all images are in one directory, we might need to split them manually for train/validation\n",
        "# based on the file names or by using a SubsetRandomSampler later.\n",
        "# For now, let's create a single dataset from this directory and plan for splitting if necessary.\n",
        "\n",
        "train_dataset = CatsVsDogsDataset(data_dir=corrected_data_dir, transform=transform)\n",
        "# Since all images are likely in one directory, let's use a simple split for demonstration.\n",
        "# In a real scenario, we'd use the info object from tfds.load to get split information.\n",
        "# For this task, let's create dummy train/validation datasets by splitting the single dataset.\n",
        "# This is a simplification and might not reflect the true train/validation split of the original dataset.\n",
        "\n",
        "# Let's check the number of images found first.\n",
        "if len(train_dataset) == 0:\n",
        "    print(f\"Error: No image files found in {corrected_data_dir}\")\n",
        "else:\n",
        "    # Perform a simple split (e.g., 80% train, 20% validation)\n",
        "    train_size = int(0.8 * len(train_dataset))\n",
        "    validation_size = len(train_dataset) - train_size\n",
        "    train_dataset, validation_dataset = torch.utils.data.random_split(train_dataset, [train_size, validation_size])\n",
        "\n",
        "\n",
        "    # Create DataLoaders\n",
        "    batch_size = 32\n",
        "    train_loader = DataLoader(train_dataset, batch_size=batch_size, shuffle=True)\n",
        "    validation_loader = DataLoader(validation_dataset, batch_size=batch_size, shuffle=False)\n",
        "\n",
        "    print(\"PyTorch Datasets and DataLoaders created.\")\n",
        "    print(f\"Number of training images found: {len(train_dataset)}\")\n",
        "    print(f\"Number of validation images found: {len(validation_dataset)}\")\n",
        "    print(f\"Number of training batches: {len(train_loader)}\")\n",
        "    print(f\"Number of validation batches: {len(validation_loader)}\")\n"
      ],
      "execution_count": 11,
      "outputs": [
        {
          "output_type": "stream",
          "name": "stdout",
          "text": [
            "Error: No image files found in /content/sample_data/cats_vs_dogs/cats_vs_dogs/4.0.1\n"
          ]
        }
      ]
    },
    {
      "cell_type": "code",
      "metadata": {
        "id": "2d0a14e7",
        "colab": {
          "base_uri": "https://localhost:8080/"
        },
        "outputId": "f06d2e31-6faa-41ee-9e25-ac9488e52d09"
      },
      "source": [
        "import os\n",
        "\n",
        "# List contents of the suspected image directory\n",
        "suspected_image_dir = '/content/sample_data/cats_vs_dogs/cats_vs_dogs/4.0.1'\n",
        "print(f\"Contents of {suspected_image_dir}:\")\n",
        "\n",
        "try:\n",
        "    contents = os.listdir(suspected_image_dir)\n",
        "    print(contents)\n",
        "\n",
        "    # If there are subdirectories, list their contents too\n",
        "    for item in contents:\n",
        "        item_path = os.path.join(suspected_image_dir, item)\n",
        "        if os.path.isdir(item_path):\n",
        "            print(f\"\\nContents of {item_path}:\")\n",
        "            try:\n",
        "                print(os.listdir(item_path))\n",
        "            except Exception as e:\n",
        "                print(f\"Could not list contents: {e}\")\n",
        "\n",
        "except FileNotFoundError:\n",
        "    print(f\"Directory not found: {suspected_image_dir}\")\n",
        "except Exception as e:\n",
        "    print(f\"An error occurred while listing contents: {e}\")\n"
      ],
      "execution_count": 12,
      "outputs": [
        {
          "output_type": "stream",
          "name": "stdout",
          "text": [
            "Contents of /content/sample_data/cats_vs_dogs/cats_vs_dogs/4.0.1:\n",
            "['cats_vs_dogs-train.tfrecord-00014-of-00016', 'cats_vs_dogs-train.tfrecord-00006-of-00016', 'cats_vs_dogs-train.tfrecord-00012-of-00016', 'cats_vs_dogs-train.tfrecord-00000-of-00016', 'label.labels.txt', 'cats_vs_dogs-train.tfrecord-00013-of-00016', 'cats_vs_dogs-train.tfrecord-00011-of-00016', 'cats_vs_dogs-train.tfrecord-00001-of-00016', 'dataset_info.json', 'cats_vs_dogs-train.tfrecord-00002-of-00016', 'cats_vs_dogs-train.tfrecord-00009-of-00016', 'cats_vs_dogs-train.tfrecord-00015-of-00016', 'cats_vs_dogs-train.tfrecord-00003-of-00016', 'cats_vs_dogs-train.tfrecord-00010-of-00016', 'features.json', 'cats_vs_dogs-train.tfrecord-00008-of-00016', 'cats_vs_dogs-train.tfrecord-00004-of-00016', 'cats_vs_dogs-train.tfrecord-00005-of-00016', 'cats_vs_dogs-train.tfrecord-00007-of-00016']\n"
          ]
        }
      ]
    },
    {
      "cell_type": "code",
      "metadata": {
        "id": "GO4UyqiCui-p",
        "colab": {
          "base_uri": "https://localhost:8080/"
        },
        "outputId": "7224c6c1-54b5-417f-8bf1-9f545481b8c7"
      },
      "source": [
        "import torch\n",
        "from torch.utils.data import DataLoader\n",
        "import torchvision.transforms as transforms\n",
        "import tensorflow as tf # Import tensorflow to use tf.data.Dataset methods\n",
        "\n",
        "# Assuming the 'dataset' variable from the previous tfds.load step is available\n",
        "# and is a dictionary like {'train': tf.data.Dataset}\n",
        "# Assuming 'info' variable is available from the tfds.load step\n",
        "\n",
        "\n",
        "# Define transforms (same as before)\n",
        "transform = transforms.Compose([\n",
        "    transforms.Lambda(lambda x: torch.from_numpy(x.numpy()).permute(2, 0, 1).float() / 255.0), # Convert TF tensor to PyTorch, permute channels, normalize\n",
        "    transforms.Resize((128, 128)),\n",
        "    transforms.Normalize((0.5, 0.5, 0.5), (0.5, 0.5, 0.5))\n",
        "])\n",
        "\n",
        "class TfDatasetToPyTorchIterableDataset(torch.utils.data.IterableDataset):\n",
        "    def __init__(self, tf_dataset, transform=None):\n",
        "        super().__init__()\n",
        "        self.tf_dataset = tf_dataset\n",
        "        self.transform = transform\n",
        "\n",
        "    def __iter__(self):\n",
        "        for image, label in self.tf_dataset:\n",
        "            # Convert TensorFlow tensors to NumPy arrays, then to PyTorch tensors\n",
        "            image = torch.from_numpy(image.numpy())\n",
        "            label = torch.tensor(label.numpy())\n",
        "\n",
        "            # Re-apply transform logic here to work with PyTorch tensor\n",
        "            # Ensure image is float and has channels first for torchvision transforms\n",
        "            image = image.permute(2, 0, 1).float() / 255.0 # Convert to channels first and normalize to [0, 1]\n",
        "\n",
        "            if self.transform:\n",
        "                 # Apply the rest of the transforms\n",
        "                 image = transforms.Compose([\n",
        "                     transforms.Resize((128, 128)),\n",
        "                     transforms.Normalize((0.5, 0.5, 0.5), (0.5, 0.5, 0.5))\n",
        "                 ])(image) # Apply the rest of the transforms\n",
        "\n",
        "            yield image, label\n",
        "\n",
        "# Access the datasets using string keys as tfds.load with splits returns a dictionary\n",
        "try:\n",
        "    # Assuming the splits are named 'train' and 'validation' or similar.\n",
        "    # Check the 'info' object or print the keys of 'dataset' to confirm the split names.\n",
        "    # For this dataset, the default splits are 'train'. We'll use slicing for train/validation.\n",
        "    train_tf_dataset = dataset['train'].take(int(info.splits['train'].num_examples * 0.8))\n",
        "    validation_tf_dataset = dataset['train'].skip(int(info.splits['train'].num_examples * 0.8))\n",
        "\n",
        "except (TypeError, KeyError):\n",
        "     print(\"Error: 'dataset' variable is not in the expected dictionary format or split names are incorrect. Please ensure the previous tfds.load call returned a dictionary of datasets and check the split names.\")\n",
        "     # Handle the error or exit if dataset is not in the expected format\n",
        "     raise # Re-raise the exception to stop execution if necessary\n",
        "\n",
        "\n",
        "# Determine the size of the dataset using the info object\n",
        "try:\n",
        "    # Get the total number of examples in the 'train' split and calculate sizes based on the split ratio\n",
        "    total_train_examples = info.splits['train'].num_examples\n",
        "    train_size = int(total_train_examples * 0.8)\n",
        "    validation_size = total_train_examples - train_size\n",
        "\n",
        "\n",
        "except (NameError, KeyError):\n",
        "     print(\"Error: 'info' variable not found or split names are incorrect. Cannot determine dataset size accurately.\")\n",
        "     # Fallback to estimating size if info is not available - this is not ideal\n",
        "     # You might need to iterate through the dataset to get the exact size, which can be slow\n",
        "     print(\"Attempting to estimate dataset size by iterating... This might take a while.\")\n",
        "     try:\n",
        "         # Note: Iterating through a tf.data.Dataset to get its size can be inefficient for large datasets.\n",
        "         # It's better to rely on the info object if available.\n",
        "         train_size = len(list(train_tf_dataset))\n",
        "         validation_size = len(list(validation_tf_dataset))\n",
        "         print(f\"Estimated train size: {train_size}, Estimated validation size: {validation_size}\")\n",
        "     except Exception as e:\n",
        "         print(f\"Could not estimate dataset size by iterating: {e}\")\n",
        "         # Set sizes to 0 or raise an error if size cannot be determined\n",
        "         train_size = 0\n",
        "         validation_size = 0\n",
        "         print(\"Cannot proceed without knowing dataset sizes.\")\n",
        "         raise # Re-raise the exception to stop execution if necessary\n",
        "\n",
        "\n",
        "print(f\"Total number of examples in the training split: {train_size}\")\n",
        "print(f\"Total number of examples in the validation split: {validation_size}\")\n",
        "\n",
        "\n",
        "# Create PyTorch IterableDatasets\n",
        "train_pytorch_dataset = TfDatasetToPyTorchIterableDataset(tf_dataset=train_tf_dataset, transform=transform)\n",
        "validation_pytorch_dataset = TfDatasetToPyTorchIterableDataset(tf_dataset=validation_tf_dataset, transform=transform)\n",
        "\n",
        "# Create DataLoaders\n",
        "batch_size = 32 # Using the batch_size variable from the context\n",
        "train_loader = DataLoader(train_pytorch_dataset, batch_size=batch_size) # Removed shuffle=True for IterableDataset\n",
        "validation_loader = DataLoader(validation_pytorch_dataset, batch_size=batch_size, shuffle=False) # Keep shuffle=False for validation\n",
        "\n",
        "\n",
        "print(\"PyTorch IterableDatasets and DataLoaders created from split tf.data.Dataset.\")\n",
        "print(f\"Number of training examples: {train_size}\")\n",
        "print(f\"Number of validation examples: {validation_size}\")\n",
        "print(f\"Batch size: {batch_size}\")\n",
        "print(\"DataLoaders are ready for iteration.\")"
      ],
      "execution_count": 13,
      "outputs": [
        {
          "output_type": "stream",
          "name": "stdout",
          "text": [
            "Total number of examples in the training split: 18609\n",
            "Total number of examples in the validation split: 4653\n",
            "PyTorch IterableDatasets and DataLoaders created from split tf.data.Dataset.\n",
            "Number of training examples: 18609\n",
            "Number of validation examples: 4653\n",
            "Batch size: 32\n",
            "DataLoaders are ready for iteration.\n"
          ]
        }
      ]
    },
    {
      "cell_type": "code",
      "metadata": {
        "id": "cc237d7b",
        "colab": {
          "base_uri": "https://localhost:8080/"
        },
        "outputId": "383f3004-ec9b-4cd2-fe77-261ec08a3136"
      },
      "source": [
        "import torch.nn as nn\n",
        "import torch.nn.functional as F\n",
        "\n",
        "class SimpleCNN(nn.Module):\n",
        "    def __init__(self, num_classes=2):\n",
        "        super(SimpleCNN, self).__init__()\n",
        "        self.conv1 = nn.Conv2d(3, 32, kernel_size=3, padding=1)\n",
        "        self.pool = nn.MaxPool2d(kernel_size=2, stride=2)\n",
        "        self.conv2 = nn.Conv2d(32, 64, kernel_size=3, padding=1)\n",
        "        self.conv3 = nn.Conv2d(64, 128, kernel_size=3, padding=1)\n",
        "        self.dropout = nn.Dropout(0.5)\n",
        "\n",
        "        # Calculate the size of the flattened layer\n",
        "        # Assuming input image size is 128x128 after transforms\n",
        "        # After conv1 (128 -> 128), pool (128 -> 64)\n",
        "        # After conv2 (64 -> 64), pool (64 -> 32)\n",
        "        # After conv3 (32 -> 32), pool (32 -> 16)\n",
        "        self.fc1 = nn.Linear(128 * 16 * 16, 512)\n",
        "        self.fc2 = nn.Linear(512, num_classes)\n",
        "\n",
        "    def forward(self, x):\n",
        "        x = self.pool(F.relu(self.conv1(x)))\n",
        "        x = self.pool(F.relu(self.conv2(x)))\n",
        "        x = self.pool(F.relu(self.conv3(x)))\n",
        "        x = x.view(-1, 128 * 16 * 16) # Flatten the tensor\n",
        "        x = F.relu(self.fc1(x))\n",
        "        x = self.dropout(x)\n",
        "        x = self.fc2(x)\n",
        "        return x\n",
        "\n",
        "# Instantiate the model\n",
        "model = SimpleCNN(num_classes=2)\n",
        "\n",
        "print(\"CNN model defined and instantiated.\")"
      ],
      "execution_count": 14,
      "outputs": [
        {
          "output_type": "stream",
          "name": "stdout",
          "text": [
            "CNN model defined and instantiated.\n"
          ]
        }
      ]
    },
    {
      "cell_type": "code",
      "metadata": {
        "id": "ffeae638",
        "colab": {
          "base_uri": "https://localhost:8080/"
        },
        "outputId": "e9ddbd77-36bf-4ae7-8e71-7aab68477b4a"
      },
      "source": [
        "import torch.nn as nn\n",
        "import torch.optim as optim\n",
        "\n",
        "# Define the loss function (Cross-Entropy Loss)\n",
        "criterion = nn.CrossEntropyLoss()\n",
        "\n",
        "# Define the optimizer (Adam)\n",
        "# Assuming 'model' variable is available from the previous step\n",
        "optimizer = optim.Adam(model.parameters(), lr=0.001)\n",
        "\n",
        "print(\"Loss function (CrossEntropyLoss) and optimizer (Adam) defined.\")"
      ],
      "execution_count": 15,
      "outputs": [
        {
          "output_type": "stream",
          "name": "stdout",
          "text": [
            "Loss function (CrossEntropyLoss) and optimizer (Adam) defined.\n"
          ]
        }
      ]
    },
    {
      "cell_type": "code",
      "metadata": {
        "id": "2xlJJdE6vkKt",
        "colab": {
          "base_uri": "https://localhost:8080/"
        },
        "outputId": "c5176ad0-948f-42d8-c4ab-05a88b0bff10"
      },
      "source": [
        "import torch\n",
        "\n",
        "# Set the number of training epochs\n",
        "num_epochs = 10\n",
        "\n",
        "# Move model to the appropriate device (GPU if available)\n",
        "device = torch.device(\"cuda\" if torch.cuda.is_available() else \"cpu\")\n",
        "model.to(device)\n",
        "\n",
        "print(f\"Training on device: {device}\")\n",
        "\n",
        "# Initialize a list to store training losses for plotting\n",
        "training_losses = []\n",
        "\n",
        "# Iterate through the specified number of epochs\n",
        "for epoch in range(num_epochs):\n",
        "    # Set the model to training mode\n",
        "    model.train()\n",
        "    running_loss = 0.0\n",
        "    correct_predictions = 0\n",
        "    total_samples = 0\n",
        "    batch_count = 0 # Keep track of the number of batches processed in the epoch\n",
        "\n",
        "\n",
        "    # Iterate through the training data loader in batches\n",
        "    for i, (inputs, labels) in enumerate(train_loader):\n",
        "        # Move inputs and labels to the device\n",
        "        inputs, labels = inputs.to(device), labels.to(device)\n",
        "\n",
        "        # Zero the parameter gradients\n",
        "        optimizer.zero_grad()\n",
        "\n",
        "        # Forward pass\n",
        "        outputs = model(inputs)\n",
        "        loss = criterion(outputs, labels)\n",
        "\n",
        "        # Backward propagation\n",
        "        loss.backward()\n",
        "\n",
        "        # Update the model's weights\n",
        "        optimizer.step()\n",
        "\n",
        "        # Accumulate running loss and track correct predictions\n",
        "        running_loss += loss.item()\n",
        "        _, predicted = torch.max(outputs.data, 1)\n",
        "        total_samples += labels.size(0)\n",
        "        correct_predictions += (predicted == labels).sum().item()\n",
        "        batch_count += 1 # Increment batch count\n",
        "\n",
        "\n",
        "        # Print loss at regular intervals (e.g., every 100 batches)\n",
        "        if (i + 1) % 100 == 0:\n",
        "            # Estimate total batches if possible, otherwise print based on index\n",
        "            try:\n",
        "                total_batches = len(train_loader)\n",
        "            except TypeError:\n",
        "                total_batches = \"N/A (IterableDataset)\"\n",
        "\n",
        "            print(f'Epoch [{epoch+1}/{num_epochs}], Step [{i+1}/{total_batches}], Loss: {running_loss / 100:.4f}')\n",
        "            # Append the average loss for the last 100 batches to the list\n",
        "            training_losses.append(running_loss / 100)\n",
        "            running_loss = 0.0\n",
        "\n",
        "\n",
        "    # Calculate and print the average loss and accuracy for the epoch\n",
        "    average_epoch_loss = running_loss / (batch_count % 100 or 100) if batch_count > 0 else 0.0\n",
        "    epoch_accuracy = 100 * correct_predictions / total_samples if total_samples > 0 else 0.0\n",
        "\n",
        "    print(f'Epoch [{epoch+1}/{num_epochs}] finished. Average Loss: {average_epoch_loss:.4f}, Accuracy: {epoch_accuracy:.2f}%')\n",
        "\n",
        "\n",
        "print(\"Training finished.\")"
      ],
      "execution_count": 16,
      "outputs": [
        {
          "output_type": "stream",
          "name": "stdout",
          "text": [
            "Training on device: cuda\n",
            "Epoch [1/10], Step [100/N/A (IterableDataset)], Loss: 0.6855\n",
            "Epoch [1/10], Step [200/N/A (IterableDataset)], Loss: 0.6310\n",
            "Epoch [1/10], Step [300/N/A (IterableDataset)], Loss: 0.5860\n",
            "Epoch [1/10], Step [400/N/A (IterableDataset)], Loss: 0.5928\n",
            "Epoch [1/10], Step [500/N/A (IterableDataset)], Loss: 0.5605\n",
            "Epoch [1/10] finished. Average Loss: 0.5488, Accuracy: 66.65%\n",
            "Epoch [2/10], Step [100/N/A (IterableDataset)], Loss: 0.5230\n",
            "Epoch [2/10], Step [200/N/A (IterableDataset)], Loss: 0.5128\n",
            "Epoch [2/10], Step [300/N/A (IterableDataset)], Loss: 0.4788\n",
            "Epoch [2/10], Step [400/N/A (IterableDataset)], Loss: 0.4889\n",
            "Epoch [2/10], Step [500/N/A (IterableDataset)], Loss: 0.4685\n",
            "Epoch [2/10] finished. Average Loss: 0.4664, Accuracy: 76.30%\n",
            "Epoch [3/10], Step [100/N/A (IterableDataset)], Loss: 0.4332\n",
            "Epoch [3/10], Step [200/N/A (IterableDataset)], Loss: 0.4258\n",
            "Epoch [3/10], Step [300/N/A (IterableDataset)], Loss: 0.3973\n",
            "Epoch [3/10], Step [400/N/A (IterableDataset)], Loss: 0.4086\n",
            "Epoch [3/10], Step [500/N/A (IterableDataset)], Loss: 0.3905\n",
            "Epoch [3/10] finished. Average Loss: 0.3940, Accuracy: 81.39%\n",
            "Epoch [4/10], Step [100/N/A (IterableDataset)], Loss: 0.3553\n",
            "Epoch [4/10], Step [200/N/A (IterableDataset)], Loss: 0.3571\n",
            "Epoch [4/10], Step [300/N/A (IterableDataset)], Loss: 0.3391\n",
            "Epoch [4/10], Step [400/N/A (IterableDataset)], Loss: 0.3362\n",
            "Epoch [4/10], Step [500/N/A (IterableDataset)], Loss: 0.3092\n",
            "Epoch [4/10] finished. Average Loss: 0.3149, Accuracy: 85.28%\n",
            "Epoch [5/10], Step [100/N/A (IterableDataset)], Loss: 0.2655\n",
            "Epoch [5/10], Step [200/N/A (IterableDataset)], Loss: 0.2884\n",
            "Epoch [5/10], Step [300/N/A (IterableDataset)], Loss: 0.2523\n",
            "Epoch [5/10], Step [400/N/A (IterableDataset)], Loss: 0.2603\n",
            "Epoch [5/10], Step [500/N/A (IterableDataset)], Loss: 0.2355\n",
            "Epoch [5/10] finished. Average Loss: 0.2454, Accuracy: 89.20%\n",
            "Epoch [6/10], Step [100/N/A (IterableDataset)], Loss: 0.2115\n",
            "Epoch [6/10], Step [200/N/A (IterableDataset)], Loss: 0.2033\n",
            "Epoch [6/10], Step [300/N/A (IterableDataset)], Loss: 0.1939\n",
            "Epoch [6/10], Step [400/N/A (IterableDataset)], Loss: 0.1863\n",
            "Epoch [6/10], Step [500/N/A (IterableDataset)], Loss: 0.1791\n",
            "Epoch [6/10] finished. Average Loss: 0.1801, Accuracy: 92.23%\n",
            "Epoch [7/10], Step [100/N/A (IterableDataset)], Loss: 0.1570\n",
            "Epoch [7/10], Step [200/N/A (IterableDataset)], Loss: 0.1367\n",
            "Epoch [7/10], Step [300/N/A (IterableDataset)], Loss: 0.1514\n",
            "Epoch [7/10], Step [400/N/A (IterableDataset)], Loss: 0.1154\n",
            "Epoch [7/10], Step [500/N/A (IterableDataset)], Loss: 0.1183\n",
            "Epoch [7/10] finished. Average Loss: 0.1326, Accuracy: 94.74%\n",
            "Epoch [8/10], Step [100/N/A (IterableDataset)], Loss: 0.1096\n",
            "Epoch [8/10], Step [200/N/A (IterableDataset)], Loss: 0.1133\n",
            "Epoch [8/10], Step [300/N/A (IterableDataset)], Loss: 0.1241\n",
            "Epoch [8/10], Step [400/N/A (IterableDataset)], Loss: 0.1187\n",
            "Epoch [8/10], Step [500/N/A (IterableDataset)], Loss: 0.0892\n",
            "Epoch [8/10] finished. Average Loss: 0.1037, Accuracy: 95.92%\n",
            "Epoch [9/10], Step [100/N/A (IterableDataset)], Loss: 0.1024\n",
            "Epoch [9/10], Step [200/N/A (IterableDataset)], Loss: 0.0811\n",
            "Epoch [9/10], Step [300/N/A (IterableDataset)], Loss: 0.0987\n",
            "Epoch [9/10], Step [400/N/A (IterableDataset)], Loss: 0.0830\n",
            "Epoch [9/10], Step [500/N/A (IterableDataset)], Loss: 0.0791\n",
            "Epoch [9/10] finished. Average Loss: 0.0700, Accuracy: 96.69%\n",
            "Epoch [10/10], Step [100/N/A (IterableDataset)], Loss: 0.0945\n",
            "Epoch [10/10], Step [200/N/A (IterableDataset)], Loss: 0.0819\n",
            "Epoch [10/10], Step [300/N/A (IterableDataset)], Loss: 0.0621\n",
            "Epoch [10/10], Step [400/N/A (IterableDataset)], Loss: 0.0790\n",
            "Epoch [10/10], Step [500/N/A (IterableDataset)], Loss: 0.0667\n",
            "Epoch [10/10] finished. Average Loss: 0.0613, Accuracy: 97.28%\n",
            "Training finished.\n"
          ]
        }
      ]
    },
    {
      "cell_type": "code",
      "source": [
        "import matplotlib.pyplot as plt\n",
        "\n",
        "if 'training_losses' in globals():\n",
        "    plt.figure(figsize=(10, 5))\n",
        "    plt.plot(training_losses)\n",
        "    plt.xlabel('Steps (every 100 batches)')\n",
        "    plt.ylabel('Training Loss')\n",
        "    plt.title('Training Loss over Steps')\n",
        "    plt.grid(True)\n",
        "    plt.show()\n",
        "else:\n",
        "    print(\"Training losses were not recorded. Please modify the training loop to store loss values.\")"
      ],
      "metadata": {
        "id": "JMCwxLBP3EP1",
        "colab": {
          "base_uri": "https://localhost:8080/",
          "height": 487
        },
        "outputId": "458009b6-e581-413f-d51a-8352511d5f95"
      },
      "execution_count": 17,
      "outputs": [
        {
          "output_type": "display_data",
          "data": {
            "text/plain": [
              "<Figure size 1000x500 with 1 Axes>"
            ],
            "image/png": "[encoded data removed]"
          },
          "metadata": {}
        }
      ]
    }
  ],
  "metadata": {
    "accelerator": "GPU",
    "colab": {
      "gpuType": "T4",
      "provenance": [],
      "mount_file_id": "1NNjGjkzopwRLr6YYxxnqUcwEbKKHYirG",
      "authorship_tag": "ABX9TyO5X9z9yk6wj2jHe1ljJfNt",
      "include_colab_link": true
    },
    "kernelspec": {
      "display_name": "Python 3",
      "name": "python3"
    },
    "language_info": {
      "name": "python"
    }
  },
  "nbformat": 4,
  "nbformat_minor": 0
}
